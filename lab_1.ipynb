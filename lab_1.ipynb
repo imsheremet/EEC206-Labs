{
  "nbformat": 4,
  "nbformat_minor": 0,
  "metadata": {
    "language_info": {
      "codemirror_mode": {
        "name": "ipython",
        "version": 3
      },
      "file_extension": ".py",
      "mimetype": "text/x-python",
      "name": "python",
      "nbconvert_exporter": "python",
      "pygments_lexer": "ipython3",
      "version": "3.9.2-final"
    },
    "orig_nbformat": 2,
    "kernelspec": {
      "name": "python3",
      "display_name": "Python 3.9.2 64-bit",
      "metadata": {
        "interpreter": {
          "hash": "7812ea015bdcee6f23a998adcdd2ef97c151c0c241b7b7070987d9313e41299d"
        }
      }
    },
    "colab": {
      "name": "lab_1.ipynb",
      "provenance": [],
      "toc_visible": true,
      "include_colab_link": true
    }
  },
  "cells": [
    {
      "cell_type": "markdown",
      "metadata": {
        "id": "view-in-github",
        "colab_type": "text"
      },
      "source": [
        "<a href=\"https://colab.research.google.com/github/imsheremet/EEC206-Labs/blob/main/lab_1.ipynb\" target=\"_parent\"><img src=\"https://colab.research.google.com/assets/colab-badge.svg\" alt=\"Open In Colab\"/></a>"
      ]
    },
    {
      "cell_type": "markdown",
      "metadata": {
        "id": "Td5rNHJ6Dmzt"
      },
      "source": [
        "# Lab 1"
      ]
    },
    {
      "cell_type": "markdown",
      "metadata": {
        "id": "_yl3OOOQDmzz"
      },
      "source": [
        "Clear the variable in case there are stale variables that might break things. Then import the libraries that will be needed."
      ]
    },
    {
      "cell_type": "code",
      "metadata": {
        "id": "vwvma688Dmz0"
      },
      "source": [
        "# clear variables\n",
        "from IPython import get_ipython\n",
        "get_ipython().magic('reset -sf')\n",
        "\n",
        "# import needed libraries\n",
        "import numpy as np\n",
        "import matplotlib.pyplot as plt\n",
        "import matplotlib.image as mpimg\n",
        "import timeit"
      ],
      "execution_count": 1,
      "outputs": []
    },
    {
      "cell_type": "markdown",
      "metadata": {
        "id": "UAqgY8NpDmz1"
      },
      "source": [
        "## Read In the Image\n",
        "\n",
        "Read in the image, convert it to grayscale, and display the grayscale image"
      ]
    },
    {
      "cell_type": "code",
      "metadata": {
        "id": "Qqa0s71MDmz1",
        "colab": {
          "base_uri": "https://localhost:8080/",
          "height": 265
        },
        "outputId": "8f28d1c0-0aff-4864-dfc8-a0dc8c32a9cd"
      },
      "source": [
        "# # test array\n",
        "# imgBw = np.array([\n",
        "#     [  0,255,  0,  0],\n",
        "#     [255,  0,  0,  0],\n",
        "#     [  0,  0,  0,255],\n",
        "#     [  0,  0,  0,255]\n",
        "# ])\n",
        "\n",
        "# read in image\n",
        "img = mpimg.imread('proj1-bw.gif')\n",
        "\n",
        "# convert image to grayscale\n",
        "imgGray = np.rint(np.dot(img[:,:,:3],[0.2989,0.5870,0.1140]))\n",
        "\n",
        "# show image\n",
        "plt.imshow(imgGray, cmap='gray')\n",
        "\n",
        "plt.axis('off')"
      ],
      "execution_count": 4,
      "outputs": [
        {
          "output_type": "execute_result",
          "data": {
            "text/plain": [
              "(-0.5, 255.5, 255.5, -0.5)"
            ]
          },
          "metadata": {
            "tags": []
          },
          "execution_count": 4
        },
        {
          "output_type": "display_data",
          "data": {
            "image/png": "[encoded data removed]",
            "text/plain": [
              "<Figure size 432x288 with 1 Axes>"
            ]
          },
          "metadata": {
            "tags": [],
            "needs_background": "light"
          }
        }
      ]
    },
    {
      "cell_type": "markdown",
      "metadata": {
        "id": "j7lueEkwDmz2"
      },
      "source": [
        "## Connected-component Grouping with 'One Component at a Time' Algorithm\n",
        "\n",
        "Define a function that will take in a grayscale image, convert to black and white using thresholding, determine the connected-component objects in the image, and output an image with the objects at different gray levels"
      ]
    },
    {
      "cell_type": "code",
      "metadata": {
        "tags": [],
        "id": "6rYYNXMtDmz2"
      },
      "source": [
        "def ccGroup(imgIn):\n",
        "\n",
        "    # convert grayscale image to a black and white (ie background and foregrond) image \n",
        "    # by setting all values under threshold to 0, and overthreshold to 1 \n",
        "    imgBw = np.zeros(imgIn.shape)\n",
        "    threshold = 128\n",
        "    imgBw[imgIn >= threshold] = 1\n",
        "    \n",
        "    # add black lines around image to make it easier to check pixels on the edges \n",
        "    # of the image\n",
        "    imgBwExpanded = np.zeros((imgBw.shape[0]+2,imgBw.shape[1]+2))\n",
        "    imgBwExpanded[1:-1,1:-1] = imgBw\n",
        "\n",
        "    # initialize an array that will store the label for each pixel; 0 means that the\n",
        "    # pixel is not labeled, 1 means that its label 1, 2 means that its label 2, etc\n",
        "    pixelLabeles = np.zeros(imgBw.shape)\n",
        "\n",
        "    # iniliazlize queue and current label value\n",
        "    pixelQueue = []\n",
        "    currentLabel = 1\n",
        "\n",
        "    # iterate over the image pixels and pixel labels\n",
        "    it = np.nditer([imgBw,pixelLabeles], flags=['multi_index'], op_flags=['readwrite'])\n",
        "\n",
        "    for pixel,pixelLabel in it:\n",
        "        # check if pixel is white and not labeled\n",
        "        if pixel == 1 and pixelLabel == 0:\n",
        "            # add pixel index to queue\n",
        "            pixelQueue.append(it.multi_index)\n",
        "\n",
        "            # add label for the pixel\n",
        "            pixelLabel[...] = currentLabel\n",
        "\n",
        "            # while queue is not empty, pop an element from the queue and check its neighbors\n",
        "            while pixelQueue:\n",
        "                currentPixelIndex = pixelQueue.pop()\n",
        "                #print('pixel index from queue =',currentPixelIndex)\n",
        "\n",
        "                # convert the pixel index to neighbor indexes\n",
        "                neighbor1Idx = (currentPixelIndex[0]-1,currentPixelIndex[1]-1)\n",
        "                neighbor2Idx = (currentPixelIndex[0]-1,currentPixelIndex[1])\n",
        "                neighbor3Idx = (currentPixelIndex[0]-1,currentPixelIndex[1]+1)\n",
        "                neighbor4Idx = (currentPixelIndex[0],currentPixelIndex[1]-1)\n",
        "                neighbor5Idx = (currentPixelIndex[0],currentPixelIndex[1]+1)\n",
        "                neighbor6Idx = (currentPixelIndex[0]+1,currentPixelIndex[1]-1)\n",
        "                neighbor7Idx = (currentPixelIndex[0]+1,currentPixelIndex[1])\n",
        "                neighbor8Idx = (currentPixelIndex[0]+1,currentPixelIndex[1]+1)\n",
        "\n",
        "                # if a neighbor is white and not labeled, label pixel and add pixel to queue\n",
        "                if imgBwExpanded[neighbor1Idx[0]+1,neighbor1Idx[1]+1]== 1:\n",
        "                    if pixelLabeles[neighbor1Idx] == 0:\n",
        "                        #print(' connected neighbor at',neighbor1Idx)\n",
        "\n",
        "                        # add pixel to queue\n",
        "                        pixelQueue.append(neighbor1Idx)\n",
        "\n",
        "                        # label pixel\n",
        "                        pixelLabeles[neighbor1Idx] = currentLabel\n",
        "                        \n",
        "                if imgBwExpanded[neighbor2Idx[0]+1,neighbor2Idx[1]+1]== 1:\n",
        "                    if pixelLabeles[neighbor2Idx] == 0:\n",
        "                        #print(' connected neighbor at',neighbor2Idx)\n",
        "\n",
        "                        # add pixel to queue\n",
        "                        pixelQueue.append(neighbor2Idx)\n",
        "\n",
        "                        # label pixel\n",
        "                        pixelLabeles[neighbor2Idx] = currentLabel\n",
        "\n",
        "                if imgBwExpanded[neighbor3Idx[0]+1,neighbor3Idx[1]+1]== 1:\n",
        "                    if pixelLabeles[neighbor3Idx] == 0:\n",
        "                        #print(' connected neighbor at',neighbor3Idx)\n",
        "\n",
        "                        # add pixel to queue\n",
        "                        pixelQueue.append(neighbor3Idx)\n",
        "\n",
        "                        # label pixel\n",
        "                        pixelLabeles[neighbor3Idx] = currentLabel\n",
        "\n",
        "                if imgBwExpanded[neighbor4Idx[0]+1,neighbor4Idx[1]+1]== 1:\n",
        "                    if pixelLabeles[neighbor4Idx] == 0:\n",
        "                        #print(' connected neighbor at',neighbor4Idx)\n",
        "\n",
        "                        # add pixel to queue\n",
        "                        pixelQueue.append(neighbor4Idx)\n",
        "\n",
        "                        # label pixel\n",
        "                        pixelLabeles[neighbor4Idx] = currentLabel\n",
        "\n",
        "                if imgBwExpanded[neighbor5Idx[0]+1,neighbor5Idx[1]+1]== 1:\n",
        "                    if pixelLabeles[neighbor5Idx] == 0:\n",
        "                        #print(' connected neighbor at',neighbor5Idx)\n",
        "\n",
        "                        # add pixel to queue\n",
        "                        pixelQueue.append(neighbor5Idx)\n",
        "\n",
        "                        # label pixel\n",
        "                        pixelLabeles[neighbor5Idx] = currentLabel\n",
        "\n",
        "                if imgBwExpanded[neighbor6Idx[0]+1,neighbor6Idx[1]+1]== 1:\n",
        "                    if pixelLabeles[neighbor6Idx] == 0:\n",
        "                        #print(' connected neighbor at',neighbor6Idx)\n",
        "\n",
        "                        # add pixel to queue\n",
        "                        pixelQueue.append(neighbor6Idx)\n",
        "\n",
        "                        # label pixel\n",
        "                        pixelLabeles[neighbor6Idx] = currentLabel\n",
        "\n",
        "                if imgBwExpanded[neighbor7Idx[0]+1,neighbor7Idx[1]+1]== 1:\n",
        "                    if pixelLabeles[neighbor7Idx] == 0:\n",
        "                        #print(' connected neighbor at',neighbor7Idx)\n",
        "\n",
        "                        # add pixel to queue\n",
        "                        pixelQueue.append(neighbor7Idx)\n",
        "\n",
        "                        # label pixel\n",
        "                        pixelLabeles[neighbor7Idx] = currentLabel\n",
        "\n",
        "                if imgBwExpanded[neighbor8Idx[0]+1,neighbor8Idx[1]+1]== 1:\n",
        "                    if pixelLabeles[neighbor8Idx] == 0:\n",
        "                        #print(' connected neighbor at',neighbor8Idx)\n",
        "\n",
        "                        # add pixel to queue\n",
        "                        pixelQueue.append(neighbor8Idx)\n",
        "\n",
        "                        # label pixel\n",
        "                        pixelLabeles[neighbor8Idx] = currentLabel\n",
        "\n",
        "            # increment current label\n",
        "            currentLabel = currentLabel + 1\n",
        "\n",
        "    # determine number of objects in the image\n",
        "    numObjects = currentLabel-1\n",
        "\n",
        "    # determine number of intensity levels to space apart the intensity levels of each object\n",
        "    objectIntensityDiff = np.rint(256/numObjects)\n",
        "\n",
        "    # replace each object label value with intensity level value\n",
        "    for obj in range(1,numObjects+1):\n",
        "        #print('object #', obj)\n",
        "        pixelLabeles[pixelLabeles == obj] = obj*objectIntensityDiff\n",
        "\n",
        "    return pixelLabeles,numObjects\n"
      ],
      "execution_count": 5,
      "outputs": []
    },
    {
      "cell_type": "markdown",
      "metadata": {
        "id": "FulkDx_2Dmz6"
      },
      "source": [
        "## Process the grayscale image\n",
        "\n",
        "Run the grayscale image through the connected-component grouping function and display the results"
      ]
    },
    {
      "cell_type": "code",
      "metadata": {
        "id": "q4rsROHKDmz8",
        "colab": {
          "base_uri": "https://localhost:8080/",
          "height": 282
        },
        "outputId": "3131d224-eafb-447d-874b-933a71ebd352"
      },
      "source": [
        "# run connected-component grouping function on image\n",
        "outImg,n = ccGroup(imgGray)\n",
        "\n",
        "# display how many clusters were found in the image\n",
        "print('Found %i clusters in the image' % n)\n",
        "\n",
        "# plot output image\n",
        "plt.imshow(outImg, cmap='gray')\n",
        "\n",
        "plt.axis('off')"
      ],
      "execution_count": 6,
      "outputs": [
        {
          "output_type": "stream",
          "text": [
            "Found 8 clusters in the image\n"
          ],
          "name": "stdout"
        },
        {
          "output_type": "execute_result",
          "data": {
            "text/plain": [
              "(-0.5, 255.5, 255.5, -0.5)"
            ]
          },
          "metadata": {
            "tags": []
          },
          "execution_count": 6
        },
        {
          "output_type": "display_data",
          "data": {
            "image/png": "[encoded data removed]",
            "text/plain": [
              "<Figure size 432x288 with 1 Axes>"
            ]
          },
          "metadata": {
            "tags": [],
            "needs_background": "light"
          }
        }
      ]
    },
    {
      "cell_type": "markdown",
      "metadata": {
        "id": "T0Zf2fYTDmz8"
      },
      "source": [
        "## Time How Long the Grouping Takes"
      ]
    },
    {
      "cell_type": "code",
      "metadata": {
        "id": "UZCWkQKqDmz8",
        "colab": {
          "base_uri": "https://localhost:8080/"
        },
        "outputId": "338fb471-7bd9-48b5-c6b4-0a706fb4f8d3"
      },
      "source": [
        "%%timeit\n",
        "outImg,n = ccGroup(imgGray)"
      ],
      "execution_count": 7,
      "outputs": [
        {
          "output_type": "stream",
          "text": [
            "10 loops, best of 5: 150 ms per loop\n"
          ],
          "name": "stdout"
        }
      ]
    },
    {
      "cell_type": "code",
      "metadata": {
        "id": "4h5q6Ky2Dmz8"
      },
      "source": [
        ""
      ],
      "execution_count": null,
      "outputs": []
    }
  ]
}