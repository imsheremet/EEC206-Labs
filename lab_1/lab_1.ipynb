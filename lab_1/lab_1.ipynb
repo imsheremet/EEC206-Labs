{
  "nbformat": 4,
  "nbformat_minor": 0,
  "metadata": {
    "language_info": {
      "codemirror_mode": {
        "name": "ipython",
        "version": 3
      },
      "file_extension": ".py",
      "mimetype": "text/x-python",
      "name": "python",
      "nbconvert_exporter": "python",
      "pygments_lexer": "ipython3",
      "version": "3.9.2-final"
    },
    "orig_nbformat": 2,
    "kernelspec": {
      "name": "python3",
      "display_name": "Python 3.9.2 64-bit",
      "metadata": {
        "interpreter": {
          "hash": "7812ea015bdcee6f23a998adcdd2ef97c151c0c241b7b7070987d9313e41299d"
        }
      }
    },
    "colab": {
      "name": "lab_1.ipynb",
      "provenance": [],
      "toc_visible": true,
      "include_colab_link": true
    }
  },
  "cells": [
    {
      "cell_type": "markdown",
      "metadata": {
        "id": "Td5rNHJ6Dmzt"
      },
      "source": [
        "# Lab 1\n",
        "\n",
        "April 12, 2021\n",
        "\n",
        "Igor Sheremet and Aakansha Bhatt"
      ]
    },
    {
      "cell_type": "markdown",
      "metadata": {
        "id": "_yl3OOOQDmzz"
      },
      "source": [
        "Clear the variable in case there are stale variables that might break things. Then import the libraries that will be needed."
      ]
    },
    {
      "cell_type": "code",
      "metadata": {
        "id": "vwvma688Dmz0"
      },
      "source": [
        "# clear variables\n",
        "from IPython import get_ipython\n",
        "get_ipython().magic('reset -sf')\n",
        "\n",
        "# import needed libraries\n",
        "import numpy as np\n",
        "import matplotlib.pyplot as plt\n",
        "import matplotlib.image as mpimg\n",
        "import timeit"
      ],
      "execution_count": 29,
      "outputs": []
    },
    {
      "cell_type": "markdown",
      "metadata": {
        "id": "UAqgY8NpDmz1"
      },
      "source": [
        "## Read in the Image\n",
        "\n",
        "Download the [test image](https://drive.google.com/file/d/1kl5i905HVaMUQArcLpNo1EvFNE9JK8kV/view?usp=sharing) and put it in the same directory as this notebook.\n",
        "\n",
        "Read in the image, convert it to grayscale, and display the grayscale image."
      ]
    },
    {
      "cell_type": "code",
      "metadata": {
        "id": "Qqa0s71MDmz1",
        "colab": {
          "base_uri": "https://localhost:8080/",
          "height": 265
        },
        "outputId": "8f28d1c0-0aff-4864-dfc8-a0dc8c32a9cd"
      },
      "source": [
        "# read in image\n",
        "img = mpimg.imread('proj1-bw.gif')\n",
        "\n",
        "# convert image to grayscale\n",
        "imgGray = np.rint(np.dot(img[:,:,:3],[0.2989,0.5870,0.1140]))\n",
        "\n",
        "# show image\n",
        "plt.imshow(imgGray, cmap='gray')\n",
        "\n",
        "# remove the axis\n",
        "plt.axis('off')"
      ],
      "execution_count": 30,
      "outputs": [
        {
          "output_type": "execute_result",
          "data": {
            "text/plain": [
              "(-0.5, 255.5, 255.5, -0.5)"
            ]
          },
          "metadata": {},
          "execution_count": 30
        },
        {
          "output_type": "display_data",
          "data": {
            "text/plain": "<Figure size 432x288 with 1 Axes>",
            "image/svg+xml": "<?xml version=\"1.0\" encoding=\"utf-8\" standalone=\"no\"?>\n<!DOCTYPE svg PUBLIC \"-//W3C//DTD SVG 1.1//EN\"\n  \"http://www.w3.org/Graphics/SVG/1.1/DTD/svg11.dtd\">\n<!-- Created with matplotlib (https://matplotlib.org/) -->\n<svg height=\"231.84pt\" version=\"1.1\" viewBox=\"0 0 231.84 231.84\" width=\"231.84pt\" xmlns=\"http://www.w3.org/2000/svg\" xmlns:xlink=\"http://www.w3.org/1999/xlink\">\n <metadata>\n  <rdf:RDF xmlns:cc=\"http://creativecommons.org/ns#\" xmlns:dc=\"http://purl.org/dc/elements/1.1/\" xmlns:rdf=\"http://www.w3.org/1999/02/22-rdf-syntax-ns#\">\n   <cc:Work>\n    <dc:type rdf:resource=\"http://purl.org/dc/dcmitype/StillImage\"/>\n    <dc:date>2021-04-11T20:14:53.462663</dc:date>\n    <dc:format>image/svg+xml</dc:format>\n    <dc:creator>\n     <cc:Agent>\n      <dc:title>Matplotlib v3.3.4, https://matplotlib.org/</dc:title>\n     </cc:Agent>\n    </dc:creator>\n   </cc:Work>\n  </rdf:RDF>\n </metadata>\n <defs>\n  <style type=\"text/css\">*{stroke-linecap:butt;stroke-linejoin:round;}</style>\n </defs>\n <g id=\"figure_1\">\n  <g id=\"patch_1\">\n   <path d=\"M 0 231.84 \nL 231.84 231.84 \nL 231.84 0 \nL 0 0 \nz\n\" style=\"fill:none;\"/>\n  </g>\n  <g id=\"axes_1\">\n   <g clip-path=\"url(#pf038424951)\">\n    <image height=\"218\" id=\"imagea94bf72087\" transform=\"scale(1 -1)translate(0 -218)\" width=\"218\" x=\"7.2\" xlink:href=\"data:image/png;base64,\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\" y=\"-6.64\"/>\n   </g>\n  </g>\n </g>\n <defs>\n  <clipPath id=\"pf038424951\">\n   <rect height=\"217.44\" width=\"217.44\" x=\"7.2\" y=\"7.2\"/>\n  </clipPath>\n </defs>\n</svg>\n",
            "image/png": "[encoded data removed]"
          },
          "metadata": {
            "needs_background": "light"
          }
        }
      ]
    },
    {
      "cell_type": "markdown",
      "metadata": {
        "id": "j7lueEkwDmz2"
      },
      "source": [
        "## Connected-component Grouping with 'One Component at a Time' Algorithm\n",
        "\n",
        "First, the input grayscale image is converted to an array of background (value 0) pixels and foreground (value 1) pixels. The foreground and background are determined by checking if the pixel value is bellow or above a threshold. If the grayscale pixel value is over the threshold it is foreground, and it is background otherwise. The connected-component objects are then found in the array with the 'one component at a time' algorithm. Here are the steps of the algorithm:\n",
        "\n",
        "    1. Start with the first pixel and set the label counter to 1. \n",
        "    \n",
        "    2. Scan the image pixel-by-pixel (raster), find the first foreground pixel, assign a label to it, and add it to the queue. \n",
        "\n",
        "    3. Pop an item from the queue, and check its neighbors (8-adjecent)\n",
        "        i. If a neighbor is foreground and not labeled, assign a label to it and add it to the queue. \n",
        "        ii. Repeat 3 until the queue is empty.\n",
        "\n",
        "    3. Increment the label count and go back to 2 to continue scannning the rest of the pixels"
      ]
    },
    {
      "cell_type": "code",
      "metadata": {
        "tags": [],
        "id": "6rYYNXMtDmz2"
      },
      "source": [
        "def ccGroup(imgIn):\n",
        "\n",
        "    # convert grayscale image to a black and white (ie background and foregrond) image \n",
        "    # by setting all values under threshold to 0, and overthreshold to 1 \n",
        "    imgBw = np.zeros(imgIn.shape)\n",
        "    threshold = 128\n",
        "    imgBw[imgIn >= threshold] = 1\n",
        "    \n",
        "    # add black lines around image to make it easier to check pixels on the edges \n",
        "    # of the image\n",
        "    imgBwExpanded = np.zeros((imgBw.shape[0]+2,imgBw.shape[1]+2))\n",
        "    imgBwExpanded[1:-1,1:-1] = imgBw\n",
        "\n",
        "    # initialize an array that will store the label for each pixel; 0 means that the\n",
        "    # pixel is not labeled, 1 means that its label 1, 2 means that its label 2, etc\n",
        "    pixelLabeles = np.zeros(imgBw.shape)\n",
        "\n",
        "    # iniliazlize queue and current label value\n",
        "    pixelQueue = []\n",
        "    currentLabel = 1\n",
        "\n",
        "    # iterate over the image pixels and pixel labels\n",
        "    it = np.nditer([imgBw,pixelLabeles], flags=['multi_index'], op_flags=['readwrite'])\n",
        "\n",
        "    for pixel,pixelLabel in it:\n",
        "        # check if pixel is white and not labeled\n",
        "        if pixel == 1 and pixelLabel == 0:\n",
        "            # add pixel index to queue\n",
        "            pixelQueue.append(it.multi_index)\n",
        "\n",
        "            # add label for the pixel\n",
        "            pixelLabel[...] = currentLabel\n",
        "\n",
        "            # while queue is not empty, pop an element from the queue and check its neighbors\n",
        "            while pixelQueue:\n",
        "                currentPixelIndex = pixelQueue.pop()\n",
        "\n",
        "                # convert the pixel index to neighbor indexes\n",
        "                neighbor1Idx = (currentPixelIndex[0]-1,currentPixelIndex[1]-1)\n",
        "                neighbor2Idx = (currentPixelIndex[0]-1,currentPixelIndex[1])\n",
        "                neighbor3Idx = (currentPixelIndex[0]-1,currentPixelIndex[1]+1)\n",
        "                neighbor4Idx = (currentPixelIndex[0],currentPixelIndex[1]-1)\n",
        "                neighbor5Idx = (currentPixelIndex[0],currentPixelIndex[1]+1)\n",
        "                neighbor6Idx = (currentPixelIndex[0]+1,currentPixelIndex[1]-1)\n",
        "                neighbor7Idx = (currentPixelIndex[0]+1,currentPixelIndex[1])\n",
        "                neighbor8Idx = (currentPixelIndex[0]+1,currentPixelIndex[1]+1)\n",
        "\n",
        "                # check north-west neighbor\n",
        "                if imgBwExpanded[neighbor1Idx[0]+1,neighbor1Idx[1]+1]== 1:\n",
        "                    # if a neighbor is white and not labeled, label pixel and add pixel to queue\n",
        "                    if pixelLabeles[neighbor1Idx] == 0:\n",
        "                        pixelQueue.append(neighbor1Idx)\n",
        "                        pixelLabeles[neighbor1Idx] = currentLabel\n",
        "                        \n",
        "                # check north neighbor\n",
        "                if imgBwExpanded[neighbor2Idx[0]+1,neighbor2Idx[1]+1]== 1:\n",
        "                    if pixelLabeles[neighbor2Idx] == 0:\n",
        "                        pixelQueue.append(neighbor2Idx)\n",
        "                        pixelLabeles[neighbor2Idx] = currentLabel\n",
        "\n",
        "                # check north-east neighbor\n",
        "                if imgBwExpanded[neighbor3Idx[0]+1,neighbor3Idx[1]+1]== 1:\n",
        "                    if pixelLabeles[neighbor3Idx] == 0:\n",
        "                        pixelQueue.append(neighbor3Idx)\n",
        "                        pixelLabeles[neighbor3Idx] = currentLabel\n",
        "\n",
        "                # check west neighbor\n",
        "                if imgBwExpanded[neighbor4Idx[0]+1,neighbor4Idx[1]+1]== 1:\n",
        "                    if pixelLabeles[neighbor4Idx] == 0:\n",
        "                        pixelQueue.append(neighbor4Idx)\n",
        "                        pixelLabeles[neighbor4Idx] = currentLabel\n",
        "\n",
        "                # check east neighbor\n",
        "                if imgBwExpanded[neighbor5Idx[0]+1,neighbor5Idx[1]+1]== 1:\n",
        "                    if pixelLabeles[neighbor5Idx] == 0:\n",
        "                        pixelQueue.append(neighbor5Idx)\n",
        "                        pixelLabeles[neighbor5Idx] = currentLabel\n",
        "\n",
        "                # check south-west neighbor\n",
        "                if imgBwExpanded[neighbor6Idx[0]+1,neighbor6Idx[1]+1]== 1:\n",
        "                    if pixelLabeles[neighbor6Idx] == 0:\n",
        "                        pixelQueue.append(neighbor6Idx)\n",
        "                        pixelLabeles[neighbor6Idx] = currentLabel\n",
        "\n",
        "                # check south neighbor\n",
        "                if imgBwExpanded[neighbor7Idx[0]+1,neighbor7Idx[1]+1]== 1:\n",
        "                    if pixelLabeles[neighbor7Idx] == 0:\n",
        "                        pixelQueue.append(neighbor7Idx)\n",
        "                        pixelLabeles[neighbor7Idx] = currentLabel\n",
        "\n",
        "                # check south-east neighbor\n",
        "                if imgBwExpanded[neighbor8Idx[0]+1,neighbor8Idx[1]+1]== 1:\n",
        "                    if pixelLabeles[neighbor8Idx] == 0:\n",
        "                        pixelQueue.append(neighbor8Idx)\n",
        "                        pixelLabeles[neighbor8Idx] = currentLabel\n",
        "\n",
        "            # increment current label\n",
        "            currentLabel = currentLabel + 1\n",
        "\n",
        "    # determine number of objects in the image\n",
        "    numObjects = currentLabel-1\n",
        "\n",
        "    # determine number of intensity levels to space apart the intensity levels of each object\n",
        "    objectIntensityDiff = np.rint(256/numObjects)\n",
        "\n",
        "    # replace each object label value with intensity level value\n",
        "    for obj in range(1,numObjects+1):\n",
        "        pixelLabeles[pixelLabeles == obj] = obj*objectIntensityDiff\n",
        "\n",
        "    return pixelLabeles,numObjects\n"
      ],
      "execution_count": 31,
      "outputs": []
    },
    {
      "cell_type": "markdown",
      "metadata": {
        "id": "FulkDx_2Dmz6"
      },
      "source": [
        "## Process the Grayscale Image\n",
        "\n",
        "Run the grayscale image through the connected-component grouping function to display the results."
      ]
    },
    {
      "cell_type": "code",
      "metadata": {
        "id": "q4rsROHKDmz8",
        "colab": {
          "base_uri": "https://localhost:8080/",
          "height": 282
        },
        "outputId": "3131d224-eafb-447d-874b-933a71ebd352"
      },
      "source": [
        "# run connected-component grouping function on image\n",
        "outImg,n = ccGroup(imgGray)\n",
        "\n",
        "# display how many clusters were found in the image\n",
        "print('Found %i clusters in the image' % n)\n",
        "\n",
        "# plot output image\n",
        "plt.imshow(outImg, cmap='gray')\n",
        "\n",
        "# remove the axis\n",
        "plt.axis('off')"
      ],
      "execution_count": 32,
      "outputs": [
        {
          "output_type": "stream",
          "name": "stdout",
          "text": [
            "Found 8 clusters in the image\n"
          ]
        },
        {
          "output_type": "execute_result",
          "data": {
            "text/plain": [
              "(-0.5, 255.5, 255.5, -0.5)"
            ]
          },
          "metadata": {},
          "execution_count": 32
        },
        {
          "output_type": "display_data",
          "data": {
            "text/plain": "<Figure size 432x288 with 1 Axes>",
            "image/svg+xml": "<?xml version=\"1.0\" encoding=\"utf-8\" standalone=\"no\"?>\n<!DOCTYPE svg PUBLIC \"-//W3C//DTD SVG 1.1//EN\"\n  \"http://www.w3.org/Graphics/SVG/1.1/DTD/svg11.dtd\">\n<!-- Created with matplotlib (https://matplotlib.org/) -->\n<svg height=\"231.84pt\" version=\"1.1\" viewBox=\"0 0 231.84 231.84\" width=\"231.84pt\" xmlns=\"http://www.w3.org/2000/svg\" xmlns:xlink=\"http://www.w3.org/1999/xlink\">\n <metadata>\n  <rdf:RDF xmlns:cc=\"http://creativecommons.org/ns#\" xmlns:dc=\"http://purl.org/dc/elements/1.1/\" xmlns:rdf=\"http://www.w3.org/1999/02/22-rdf-syntax-ns#\">\n   <cc:Work>\n    <dc:type rdf:resource=\"http://purl.org/dc/dcmitype/StillImage\"/>\n    <dc:date>2021-04-11T20:14:53.933546</dc:date>\n    <dc:format>image/svg+xml</dc:format>\n    <dc:creator>\n     <cc:Agent>\n      <dc:title>Matplotlib v3.3.4, https://matplotlib.org/</dc:title>\n     </cc:Agent>\n    </dc:creator>\n   </cc:Work>\n  </rdf:RDF>\n </metadata>\n <defs>\n  <style type=\"text/css\">*{stroke-linecap:butt;stroke-linejoin:round;}</style>\n </defs>\n <g id=\"figure_1\">\n  <g id=\"patch_1\">\n   <path d=\"M 0 231.84 \nL 231.84 231.84 \nL 231.84 0 \nL 0 0 \nz\n\" style=\"fill:none;\"/>\n  </g>\n  <g id=\"axes_1\">\n   <g clip-path=\"url(#pbad6c492cb)\">\n    <image height=\"218\" id=\"imagec1a430a518\" transform=\"scale(1 -1)translate(0 -218)\" width=\"218\" x=\"7.2\" xlink:href=\"data:image/png;base64,\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\" y=\"-6.64\"/>\n   </g>\n  </g>\n </g>\n <defs>\n  <clipPath id=\"pbad6c492cb\">\n   <rect height=\"217.44\" width=\"217.44\" x=\"7.2\" y=\"7.2\"/>\n  </clipPath>\n </defs>\n</svg>\n",
            "image/png": "[encoded data removed]"
          },
          "metadata": {
            "needs_background": "light"
          }
        }
      ]
    },
    {
      "cell_type": "markdown",
      "metadata": {
        "id": "T0Zf2fYTDmz8"
      },
      "source": [
        "## Time How Long the Grouping Takes"
      ]
    },
    {
      "cell_type": "code",
      "metadata": {
        "id": "UZCWkQKqDmz8",
        "colab": {
          "base_uri": "https://localhost:8080/"
        },
        "outputId": "338fb471-7bd9-48b5-c6b4-0a706fb4f8d3"
      },
      "source": [
        "%%timeit\n",
        "outImg,n = ccGroup(imgGray)"
      ],
      "execution_count": 33,
      "outputs": [
        {
          "output_type": "stream",
          "name": "stdout",
          "text": [
            "172 ms ± 9.04 ms per loop (mean ± std. dev. of 7 runs, 1 loop each)\n"
          ]
        }
      ]
    }
  ]
}